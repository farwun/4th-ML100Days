{
 "cells": [
  {
   "cell_type": "markdown",
   "metadata": {},
   "source": [
    "## Work\n",
    "1. 請嘗試將 preproc_x 替換成以每筆資料的 min/max 進行標準化至 -1 ~ 1 間，再進行訓練\n",
    "2. 請嘗試將 mlp 疊更深 (e.g 5~10 層)，進行訓練後觀察 learning curve 的走勢\n",
    "3. (optional) 請改用 GPU 進行訓練 (如果你有 GPU 的話)，比較使用 CPU 與 GPU 的訓練速度"
   ]
  },
  {
   "cell_type": "code",
   "execution_count": 3,
   "metadata": {},
   "outputs": [
    {
     "data": {
      "text/plain": [
       "'\\nYour code here (optional)\\n確認硬體資源\\n'"
      ]
     },
     "execution_count": 3,
     "metadata": {},
     "output_type": "execute_result"
    }
   ],
   "source": [
    "## nvidia-smi 指令僅適用於 mac 與 linux 作業系統, windows 無法執行該指令, 但不影響後續程式, 請無法執行的同學忽略即可\n",
    "\"\"\"\n",
    "Your code here (optional)\n",
    "確認硬體資源\n",
    "\"\"\"\n",
    "# No GPU"
   ]
  },
  {
   "cell_type": "code",
   "execution_count": 4,
   "metadata": {},
   "outputs": [
    {
     "name": "stderr",
     "output_type": "stream",
     "text": [
      "Using TensorFlow backend.\n"
     ]
    }
   ],
   "source": [
    "import os\n",
    "import keras\n",
    "\n",
    "# 請嘗試設定 GPU：os.environ\n"
   ]
  },
  {
   "cell_type": "code",
   "execution_count": 5,
   "metadata": {},
   "outputs": [],
   "source": [
    "train, test = keras.datasets.cifar10.load_data()"
   ]
  },
  {
   "cell_type": "code",
   "execution_count": 6,
   "metadata": {},
   "outputs": [],
   "source": [
    "## 資料前處理\n",
    "\"\"\"\n",
    "Your code here\n",
    "\"\"\"\n",
    "def preproc_x(x, flatten=True):\n",
    "    x = 2*(((x - x.min()) / (x.max() - x.min())))-1\n",
    "    if flatten:\n",
    "        x = x.reshape((len(x), -1))\n",
    "    return x\n",
    "\n",
    "def preproc_y(y, num_classes=10):\n",
    "    if y.shape[-1] == 1:\n",
    "        y = keras.utils.to_categorical(y, num_classes)\n",
    "    return y    "
   ]
  },
  {
   "cell_type": "code",
   "execution_count": 7,
   "metadata": {},
   "outputs": [],
   "source": [
    "x_train, y_train = train\n",
    "x_test, y_test = test\n",
    "\n",
    "# Preproc the inputs\n",
    "x_train = preproc_x(x_train)\n",
    "x_test = preproc_x(x_test)\n",
    "\n",
    "# Preprc the outputs\n",
    "y_train = preproc_y(y_train)\n",
    "y_test = preproc_y(y_test)"
   ]
  },
  {
   "cell_type": "code",
   "execution_count": 12,
   "metadata": {},
   "outputs": [],
   "source": [
    "\"\"\"Code Here\n",
    "建立你的神經網路\n",
    "\"\"\"\n",
    "def build_mlp(input_shape, output_units=10, num_neurons=[512, 256, 128, 256, 128, 32, 512, 256, 128]):\n",
    "    input_layer = keras.layers.Input(input_shape)\n",
    "    \n",
    "    for i, n_units in enumerate(num_neurons):\n",
    "        if i == 0:\n",
    "            x = keras.layers.Dense(units=n_units, activation=\"relu\", name=\"hidden_layer\"+str(i+1))(input_layer)\n",
    "        else:\n",
    "            x = keras.layers.Dense(units=n_units, activation=\"relu\", name=\"hidden_layer\"+str(i+1))(x)\n",
    "    \n",
    "    out = keras.layers.Dense(units=output_units, activation=\"softmax\", name=\"output\")(x)\n",
    "    \n",
    "    model = keras.models.Model(inputs=[input_layer], outputs=[out])\n",
    "    return model"
   ]
  },
  {
   "cell_type": "code",
   "execution_count": 13,
   "metadata": {},
   "outputs": [
    {
     "name": "stdout",
     "output_type": "stream",
     "text": [
      "Model: \"model_1\"\n",
      "_________________________________________________________________\n",
      "Layer (type)                 Output Shape              Param #   \n",
      "=================================================================\n",
      "input_1 (InputLayer)         (None, 3072)              0         \n",
      "_________________________________________________________________\n",
      "hidden_layer1 (Dense)        (None, 512)               1573376   \n",
      "_________________________________________________________________\n",
      "hidden_layer2 (Dense)        (None, 256)               131328    \n",
      "_________________________________________________________________\n",
      "hidden_layer3 (Dense)        (None, 128)               32896     \n",
      "_________________________________________________________________\n",
      "hidden_layer4 (Dense)        (None, 256)               33024     \n",
      "_________________________________________________________________\n",
      "hidden_layer5 (Dense)        (None, 128)               32896     \n",
      "_________________________________________________________________\n",
      "hidden_layer6 (Dense)        (None, 32)                4128      \n",
      "_________________________________________________________________\n",
      "hidden_layer7 (Dense)        (None, 512)               16896     \n",
      "_________________________________________________________________\n",
      "hidden_layer8 (Dense)        (None, 256)               131328    \n",
      "_________________________________________________________________\n",
      "hidden_layer9 (Dense)        (None, 128)               32896     \n",
      "_________________________________________________________________\n",
      "output (Dense)               (None, 10)                1290      \n",
      "=================================================================\n",
      "Total params: 1,990,058\n",
      "Trainable params: 1,990,058\n",
      "Non-trainable params: 0\n",
      "_________________________________________________________________\n"
     ]
    }
   ],
   "source": [
    "model = build_mlp(input_shape=x_train.shape[1:])\n",
    "model.summary()"
   ]
  },
  {
   "cell_type": "code",
   "execution_count": 14,
   "metadata": {},
   "outputs": [],
   "source": [
    "## 超參數設定\n",
    "LEARNING_RATE = 0.001\n",
    "EPOCHS = 100\n",
    "BATCH_SIZE = 256"
   ]
  },
  {
   "cell_type": "code",
   "execution_count": 15,
   "metadata": {},
   "outputs": [],
   "source": [
    "optimizer = keras.optimizers.Adam(lr=LEARNING_RATE)\n",
    "model.compile(loss=\"categorical_crossentropy\", metrics=[\"accuracy\"], optimizer=optimizer)"
   ]
  },
  {
   "cell_type": "code",
   "execution_count": 16,
   "metadata": {},
   "outputs": [
    {
     "name": "stdout",
     "output_type": "stream",
     "text": [
      "Train on 50000 samples, validate on 10000 samples\n",
      "Epoch 1/100\n",
      "50000/50000 [==============================] - 13s 269us/step - loss: 1.7449 - accuracy: 0.3706 - val_loss: 1.5936 - val_accuracy: 0.4377\n",
      "Epoch 2/100\n",
      "50000/50000 [==============================] - 12s 234us/step - loss: 1.5019 - accuracy: 0.4681 - val_loss: 1.4652 - val_accuracy: 0.4835\n",
      "Epoch 3/100\n",
      "50000/50000 [==============================] - 12s 237us/step - loss: 1.3722 - accuracy: 0.5144 - val_loss: 1.4291 - val_accuracy: 0.4956\n",
      "Epoch 4/100\n",
      "50000/50000 [==============================] - 12s 239us/step - loss: 1.2903 - accuracy: 0.5408 - val_loss: 1.3917 - val_accuracy: 0.5088\n",
      "Epoch 5/100\n",
      "50000/50000 [==============================] - 12s 240us/step - loss: 1.2067 - accuracy: 0.5728 - val_loss: 1.3667 - val_accuracy: 0.5174\n",
      "Epoch 6/100\n",
      "50000/50000 [==============================] - 12s 242us/step - loss: 1.1282 - accuracy: 0.5996 - val_loss: 1.3668 - val_accuracy: 0.5295\n",
      "Epoch 7/100\n",
      "50000/50000 [==============================] - 12s 234us/step - loss: 1.0662 - accuracy: 0.6245 - val_loss: 1.3739 - val_accuracy: 0.5285\n",
      "Epoch 8/100\n",
      "50000/50000 [==============================] - 12s 230us/step - loss: 1.0038 - accuracy: 0.6476 - val_loss: 1.3553 - val_accuracy: 0.5376\n",
      "Epoch 9/100\n",
      "50000/50000 [==============================] - 12s 240us/step - loss: 0.9322 - accuracy: 0.6723 - val_loss: 1.3677 - val_accuracy: 0.5356\n",
      "Epoch 10/100\n",
      "50000/50000 [==============================] - 12s 236us/step - loss: 0.8805 - accuracy: 0.6897 - val_loss: 1.4642 - val_accuracy: 0.5265\n",
      "Epoch 11/100\n",
      "50000/50000 [==============================] - 12s 235us/step - loss: 0.8249 - accuracy: 0.7092 - val_loss: 1.4548 - val_accuracy: 0.5384\n",
      "Epoch 12/100\n",
      "50000/50000 [==============================] - 13s 252us/step - loss: 0.7687 - accuracy: 0.7282 - val_loss: 1.4864 - val_accuracy: 0.5370\n",
      "Epoch 13/100\n",
      "50000/50000 [==============================] - 12s 230us/step - loss: 0.7102 - accuracy: 0.7508 - val_loss: 1.5157 - val_accuracy: 0.5448\n",
      "Epoch 14/100\n",
      "50000/50000 [==============================] - 12s 234us/step - loss: 0.6809 - accuracy: 0.7629 - val_loss: 1.5661 - val_accuracy: 0.5345\n",
      "Epoch 15/100\n",
      "50000/50000 [==============================] - 12s 237us/step - loss: 0.6166 - accuracy: 0.7846 - val_loss: 1.6344 - val_accuracy: 0.5324\n",
      "Epoch 16/100\n",
      "50000/50000 [==============================] - 12s 236us/step - loss: 0.5891 - accuracy: 0.7948 - val_loss: 1.6373 - val_accuracy: 0.5319\n",
      "Epoch 17/100\n",
      "50000/50000 [==============================] - 12s 241us/step - loss: 0.5373 - accuracy: 0.8132 - val_loss: 1.7136 - val_accuracy: 0.5324\n",
      "Epoch 18/100\n",
      "50000/50000 [==============================] - 12s 240us/step - loss: 0.5023 - accuracy: 0.8274 - val_loss: 1.7636 - val_accuracy: 0.5386\n",
      "Epoch 19/100\n",
      "50000/50000 [==============================] - 12s 248us/step - loss: 0.4675 - accuracy: 0.8391 - val_loss: 1.8346 - val_accuracy: 0.5310\n",
      "Epoch 20/100\n",
      "50000/50000 [==============================] - 13s 252us/step - loss: 0.4372 - accuracy: 0.8504 - val_loss: 2.0058 - val_accuracy: 0.5282\n",
      "Epoch 21/100\n",
      "50000/50000 [==============================] - 12s 239us/step - loss: 0.4161 - accuracy: 0.8585 - val_loss: 1.9317 - val_accuracy: 0.5332\n",
      "Epoch 22/100\n",
      "50000/50000 [==============================] - 12s 237us/step - loss: 0.3910 - accuracy: 0.8667 - val_loss: 2.0134 - val_accuracy: 0.5383\n",
      "Epoch 23/100\n",
      "50000/50000 [==============================] - 12s 240us/step - loss: 0.3617 - accuracy: 0.8777 - val_loss: 2.0352 - val_accuracy: 0.5276\n",
      "Epoch 24/100\n",
      "50000/50000 [==============================] - 12s 235us/step - loss: 0.3462 - accuracy: 0.8821 - val_loss: 2.1079 - val_accuracy: 0.5341\n",
      "Epoch 25/100\n",
      "50000/50000 [==============================] - 12s 242us/step - loss: 0.3183 - accuracy: 0.8910 - val_loss: 2.1337 - val_accuracy: 0.5264\n",
      "Epoch 26/100\n",
      "50000/50000 [==============================] - 13s 254us/step - loss: 0.3037 - accuracy: 0.8966 - val_loss: 2.1210 - val_accuracy: 0.5289\n",
      "Epoch 27/100\n",
      "50000/50000 [==============================] - 12s 248us/step - loss: 0.2929 - accuracy: 0.8993 - val_loss: 2.2023 - val_accuracy: 0.5348\n",
      "Epoch 28/100\n",
      "50000/50000 [==============================] - 12s 246us/step - loss: 0.2730 - accuracy: 0.9086 - val_loss: 2.2431 - val_accuracy: 0.5358\n",
      "Epoch 29/100\n",
      "50000/50000 [==============================] - 12s 247us/step - loss: 0.2591 - accuracy: 0.9129 - val_loss: 2.3626 - val_accuracy: 0.5278\n",
      "Epoch 30/100\n",
      "50000/50000 [==============================] - 12s 243us/step - loss: 0.2454 - accuracy: 0.9170 - val_loss: 2.4008 - val_accuracy: 0.5274\n",
      "Epoch 31/100\n",
      "50000/50000 [==============================] - 12s 237us/step - loss: 0.2382 - accuracy: 0.9200 - val_loss: 2.4276 - val_accuracy: 0.5301\n",
      "Epoch 32/100\n",
      "50000/50000 [==============================] - 12s 233us/step - loss: 0.2385 - accuracy: 0.9209 - val_loss: 2.3906 - val_accuracy: 0.5317\n",
      "Epoch 33/100\n",
      "50000/50000 [==============================] - 12s 241us/step - loss: 0.2125 - accuracy: 0.9290 - val_loss: 2.5432 - val_accuracy: 0.5283\n",
      "Epoch 34/100\n",
      "50000/50000 [==============================] - 13s 260us/step - loss: 0.2153 - accuracy: 0.9284 - val_loss: 2.4839 - val_accuracy: 0.5390\n",
      "Epoch 35/100\n",
      "50000/50000 [==============================] - 13s 258us/step - loss: 0.2097 - accuracy: 0.9304 - val_loss: 2.6978 - val_accuracy: 0.5288\n",
      "Epoch 36/100\n",
      "50000/50000 [==============================] - 13s 254us/step - loss: 0.1962 - accuracy: 0.9354 - val_loss: 2.6572 - val_accuracy: 0.5312\n",
      "Epoch 37/100\n",
      "50000/50000 [==============================] - 12s 236us/step - loss: 0.1925 - accuracy: 0.9352 - val_loss: 2.7748 - val_accuracy: 0.5311\n",
      "Epoch 38/100\n",
      "50000/50000 [==============================] - 12s 237us/step - loss: 0.1776 - accuracy: 0.9404 - val_loss: 2.6565 - val_accuracy: 0.5303\n",
      "Epoch 39/100\n",
      "50000/50000 [==============================] - 12s 248us/step - loss: 0.1738 - accuracy: 0.9435 - val_loss: 2.7141 - val_accuracy: 0.5356\n",
      "Epoch 40/100\n",
      "50000/50000 [==============================] - 12s 243us/step - loss: 0.1722 - accuracy: 0.9431 - val_loss: 2.7496 - val_accuracy: 0.5252\n",
      "Epoch 41/100\n",
      "50000/50000 [==============================] - 12s 248us/step - loss: 0.1594 - accuracy: 0.9478 - val_loss: 2.6816 - val_accuracy: 0.5240\n",
      "Epoch 42/100\n",
      "50000/50000 [==============================] - 13s 262us/step - loss: 0.1620 - accuracy: 0.9465 - val_loss: 2.8682 - val_accuracy: 0.5173\n",
      "Epoch 43/100\n",
      "50000/50000 [==============================] - 12s 243us/step - loss: 0.1636 - accuracy: 0.9469 - val_loss: 2.6682 - val_accuracy: 0.5336\n",
      "Epoch 44/100\n",
      "50000/50000 [==============================] - 12s 233us/step - loss: 0.1600 - accuracy: 0.9470 - val_loss: 2.6319 - val_accuracy: 0.5237\n",
      "Epoch 45/100\n",
      "50000/50000 [==============================] - 12s 234us/step - loss: 0.1417 - accuracy: 0.9534 - val_loss: 2.7386 - val_accuracy: 0.5325\n",
      "Epoch 46/100\n",
      "50000/50000 [==============================] - 12s 234us/step - loss: 0.1389 - accuracy: 0.9550 - val_loss: 3.0159 - val_accuracy: 0.5323\n",
      "Epoch 47/100\n",
      "50000/50000 [==============================] - 12s 232us/step - loss: 0.1454 - accuracy: 0.9520 - val_loss: 2.7921 - val_accuracy: 0.5258\n",
      "Epoch 48/100\n",
      "50000/50000 [==============================] - 12s 233us/step - loss: 0.1435 - accuracy: 0.9531 - val_loss: 2.6944 - val_accuracy: 0.5381\n",
      "Epoch 49/100\n",
      "50000/50000 [==============================] - 12s 234us/step - loss: 0.1338 - accuracy: 0.9560 - val_loss: 2.7966 - val_accuracy: 0.5271\n",
      "Epoch 50/100\n",
      "50000/50000 [==============================] - 12s 234us/step - loss: 0.1336 - accuracy: 0.9560 - val_loss: 2.9587 - val_accuracy: 0.5234\n",
      "Epoch 51/100\n",
      "50000/50000 [==============================] - 12s 233us/step - loss: 0.1336 - accuracy: 0.9570 - val_loss: 3.1995 - val_accuracy: 0.5250\n",
      "Epoch 52/100\n",
      "50000/50000 [==============================] - 12s 242us/step - loss: 0.1272 - accuracy: 0.9583 - val_loss: 2.8471 - val_accuracy: 0.5297\n",
      "Epoch 53/100\n",
      "50000/50000 [==============================] - 12s 242us/step - loss: 0.1305 - accuracy: 0.9582 - val_loss: 3.0395 - val_accuracy: 0.5278\n",
      "Epoch 54/100\n",
      "50000/50000 [==============================] - 12s 243us/step - loss: 0.1168 - accuracy: 0.9617 - val_loss: 3.0581 - val_accuracy: 0.5276\n"
     ]
    },
    {
     "name": "stdout",
     "output_type": "stream",
     "text": [
      "Epoch 55/100\n",
      "50000/50000 [==============================] - 12s 238us/step - loss: 0.1235 - accuracy: 0.9599 - val_loss: 3.0977 - val_accuracy: 0.5297\n",
      "Epoch 56/100\n",
      "50000/50000 [==============================] - 12s 236us/step - loss: 0.1133 - accuracy: 0.9640 - val_loss: 3.0263 - val_accuracy: 0.5263\n",
      "Epoch 57/100\n",
      "50000/50000 [==============================] - 12s 240us/step - loss: 0.1099 - accuracy: 0.9641 - val_loss: 3.0722 - val_accuracy: 0.5337\n",
      "Epoch 58/100\n",
      "50000/50000 [==============================] - 12s 235us/step - loss: 0.1139 - accuracy: 0.9628 - val_loss: 3.1279 - val_accuracy: 0.5228\n",
      "Epoch 59/100\n",
      "50000/50000 [==============================] - 12s 230us/step - loss: 0.1078 - accuracy: 0.9653 - val_loss: 2.9737 - val_accuracy: 0.5235\n",
      "Epoch 60/100\n",
      "50000/50000 [==============================] - 12s 235us/step - loss: 0.1097 - accuracy: 0.9634 - val_loss: 3.0423 - val_accuracy: 0.5300\n",
      "Epoch 61/100\n",
      "50000/50000 [==============================] - 12s 234us/step - loss: 0.1132 - accuracy: 0.9638 - val_loss: 3.0371 - val_accuracy: 0.5245\n",
      "Epoch 62/100\n",
      "50000/50000 [==============================] - 12s 233us/step - loss: 0.1075 - accuracy: 0.9658 - val_loss: 3.0810 - val_accuracy: 0.5340\n",
      "Epoch 63/100\n",
      "50000/50000 [==============================] - 12s 232us/step - loss: 0.1056 - accuracy: 0.9655 - val_loss: 3.0229 - val_accuracy: 0.5382\n",
      "Epoch 64/100\n",
      "50000/50000 [==============================] - 12s 235us/step - loss: 0.1047 - accuracy: 0.9662 - val_loss: 3.0744 - val_accuracy: 0.5274\n",
      "Epoch 65/100\n",
      "50000/50000 [==============================] - 12s 234us/step - loss: 0.1002 - accuracy: 0.9672 - val_loss: 3.1914 - val_accuracy: 0.5334\n",
      "Epoch 66/100\n",
      "50000/50000 [==============================] - 12s 232us/step - loss: 0.1072 - accuracy: 0.9664 - val_loss: 2.9991 - val_accuracy: 0.5280\n",
      "Epoch 67/100\n",
      "50000/50000 [==============================] - 12s 235us/step - loss: 0.1053 - accuracy: 0.9664 - val_loss: 2.9602 - val_accuracy: 0.5360\n",
      "Epoch 68/100\n",
      "50000/50000 [==============================] - 12s 234us/step - loss: 0.1014 - accuracy: 0.9664 - val_loss: 3.1889 - val_accuracy: 0.5279\n",
      "Epoch 69/100\n",
      "50000/50000 [==============================] - 12s 234us/step - loss: 0.1017 - accuracy: 0.9670 - val_loss: 3.1222 - val_accuracy: 0.5295\n",
      "Epoch 70/100\n",
      "50000/50000 [==============================] - 12s 232us/step - loss: 0.0865 - accuracy: 0.9729 - val_loss: 3.4049 - val_accuracy: 0.5317\n",
      "Epoch 71/100\n",
      "50000/50000 [==============================] - 12s 235us/step - loss: 0.0905 - accuracy: 0.9720 - val_loss: 3.2233 - val_accuracy: 0.5285\n",
      "Epoch 72/100\n",
      "50000/50000 [==============================] - 12s 233us/step - loss: 0.0968 - accuracy: 0.9693 - val_loss: 3.2148 - val_accuracy: 0.5263\n",
      "Epoch 73/100\n",
      "50000/50000 [==============================] - 12s 234us/step - loss: 0.0848 - accuracy: 0.9728 - val_loss: 3.2268 - val_accuracy: 0.5337\n",
      "Epoch 74/100\n",
      "50000/50000 [==============================] - 12s 232us/step - loss: 0.0803 - accuracy: 0.9742 - val_loss: 3.0108 - val_accuracy: 0.5335\n",
      "Epoch 75/100\n",
      "50000/50000 [==============================] - 12s 235us/step - loss: 0.0942 - accuracy: 0.9704 - val_loss: 3.2379 - val_accuracy: 0.5348\n",
      "Epoch 76/100\n",
      "50000/50000 [==============================] - 12s 240us/step - loss: 0.0828 - accuracy: 0.9735 - val_loss: 3.0595 - val_accuracy: 0.5266\n",
      "Epoch 77/100\n",
      "50000/50000 [==============================] - 12s 233us/step - loss: 0.0916 - accuracy: 0.9711 - val_loss: 2.9160 - val_accuracy: 0.5350\n",
      "Epoch 78/100\n",
      "50000/50000 [==============================] - 12s 233us/step - loss: 0.0874 - accuracy: 0.9725 - val_loss: 3.2479 - val_accuracy: 0.5324\n",
      "Epoch 79/100\n",
      "50000/50000 [==============================] - 12s 233us/step - loss: 0.0878 - accuracy: 0.9715 - val_loss: 3.1920 - val_accuracy: 0.5357\n",
      "Epoch 80/100\n",
      "50000/50000 [==============================] - 12s 234us/step - loss: 0.0887 - accuracy: 0.9711 - val_loss: 3.2153 - val_accuracy: 0.5319\n",
      "Epoch 81/100\n",
      "50000/50000 [==============================] - 12s 231us/step - loss: 0.0835 - accuracy: 0.9733 - val_loss: 3.3367 - val_accuracy: 0.5300\n",
      "Epoch 82/100\n",
      "50000/50000 [==============================] - 12s 234us/step - loss: 0.0800 - accuracy: 0.9741 - val_loss: 3.4691 - val_accuracy: 0.5251\n",
      "Epoch 83/100\n",
      "50000/50000 [==============================] - 12s 234us/step - loss: 0.0890 - accuracy: 0.9722 - val_loss: 3.2141 - val_accuracy: 0.5308\n",
      "Epoch 84/100\n",
      "50000/50000 [==============================] - 12s 234us/step - loss: 0.0797 - accuracy: 0.9748 - val_loss: 3.3372 - val_accuracy: 0.5329\n",
      "Epoch 85/100\n",
      "50000/50000 [==============================] - 12s 234us/step - loss: 0.0806 - accuracy: 0.9743 - val_loss: 3.3275 - val_accuracy: 0.5306\n",
      "Epoch 86/100\n",
      "50000/50000 [==============================] - 12s 234us/step - loss: 0.0752 - accuracy: 0.9768 - val_loss: 2.9893 - val_accuracy: 0.5373\n",
      "Epoch 87/100\n",
      "50000/50000 [==============================] - 12s 249us/step - loss: 0.0726 - accuracy: 0.9764 - val_loss: 3.2338 - val_accuracy: 0.5255\n",
      "Epoch 88/100\n",
      "50000/50000 [==============================] - 12s 247us/step - loss: 0.0726 - accuracy: 0.9767 - val_loss: 3.4451 - val_accuracy: 0.5244\n",
      "Epoch 89/100\n",
      "50000/50000 [==============================] - 12s 242us/step - loss: 0.0699 - accuracy: 0.9773 - val_loss: 3.4654 - val_accuracy: 0.5189\n",
      "Epoch 90/100\n",
      "50000/50000 [==============================] - 12s 246us/step - loss: 0.0830 - accuracy: 0.9734 - val_loss: 3.1524 - val_accuracy: 0.5330\n",
      "Epoch 91/100\n",
      "50000/50000 [==============================] - 12s 246us/step - loss: 0.0830 - accuracy: 0.9737 - val_loss: 3.3921 - val_accuracy: 0.5299\n",
      "Epoch 92/100\n",
      "50000/50000 [==============================] - 12s 246us/step - loss: 0.0718 - accuracy: 0.9774 - val_loss: 3.2108 - val_accuracy: 0.5330\n",
      "Epoch 93/100\n",
      "50000/50000 [==============================] - 12s 243us/step - loss: 0.0773 - accuracy: 0.9751 - val_loss: 3.2472 - val_accuracy: 0.5340\n",
      "Epoch 94/100\n",
      "50000/50000 [==============================] - 12s 249us/step - loss: 0.0675 - accuracy: 0.9784 - val_loss: 3.3803 - val_accuracy: 0.5236\n",
      "Epoch 95/100\n",
      "50000/50000 [==============================] - 12s 250us/step - loss: 0.0861 - accuracy: 0.9727 - val_loss: 3.2451 - val_accuracy: 0.5312\n",
      "Epoch 96/100\n",
      "50000/50000 [==============================] - 12s 246us/step - loss: 0.0648 - accuracy: 0.9804 - val_loss: 3.3342 - val_accuracy: 0.5317\n",
      "Epoch 97/100\n",
      "50000/50000 [==============================] - 12s 245us/step - loss: 0.0764 - accuracy: 0.9756 - val_loss: 3.7028 - val_accuracy: 0.5334\n",
      "Epoch 98/100\n",
      "50000/50000 [==============================] - 12s 243us/step - loss: 0.0618 - accuracy: 0.9800 - val_loss: 3.5394 - val_accuracy: 0.5339\n",
      "Epoch 99/100\n",
      "50000/50000 [==============================] - 12s 246us/step - loss: 0.0683 - accuracy: 0.9784 - val_loss: 3.3725 - val_accuracy: 0.5350\n",
      "Epoch 100/100\n",
      "50000/50000 [==============================] - 12s 245us/step - loss: 0.0754 - accuracy: 0.9767 - val_loss: 3.6043 - val_accuracy: 0.5343\n"
     ]
    },
    {
     "data": {
      "text/plain": [
       "<keras.callbacks.callbacks.History at 0xce2a0d3e08>"
      ]
     },
     "execution_count": 16,
     "metadata": {},
     "output_type": "execute_result"
    }
   ],
   "source": [
    "model.fit(x_train, y_train, \n",
    "          epochs=EPOCHS, \n",
    "          batch_size=BATCH_SIZE, \n",
    "          validation_data=(x_test, y_test), \n",
    "          shuffle=True)"
   ]
  },
  {
   "cell_type": "code",
   "execution_count": 17,
   "metadata": {},
   "outputs": [
    {
     "data": {
      "image/png": "[encoded data removed]",
      "text/plain": [
       "<Figure size 432x288 with 1 Axes>"
      ]
     },
     "metadata": {
      "needs_background": "light"
     },
     "output_type": "display_data"
    },
    {
     "data": {
      "image/png": "[encoded data removed]",
      "text/plain": [
       "<Figure size 432x288 with 1 Axes>"
      ]
     },
     "metadata": {
      "needs_background": "light"
     },
     "output_type": "display_data"
    }
   ],
   "source": [
    "import matplotlib.pyplot as plt\n",
    "\n",
    "\n",
    "train_loss = model.history.history[\"loss\"]\n",
    "valid_loss = model.history.history[\"val_loss\"]\n",
    "\n",
    "train_acc = model.history.history[\"accuracy\"]\n",
    "valid_acc = model.history.history[\"val_accuracy\"]\n",
    "\n",
    "plt.plot(range(len(train_loss)), train_loss, label=\"train loss\")\n",
    "plt.plot(range(len(valid_loss)), valid_loss, label=\"valid loss\")\n",
    "plt.legend()\n",
    "plt.title(\"Loss\")\n",
    "plt.show()\n",
    "\n",
    "plt.plot(range(len(train_acc)), train_acc, label=\"train accuracy\")\n",
    "plt.plot(range(len(valid_acc)), valid_acc, label=\"valid accuracy\")\n",
    "plt.legend()\n",
    "plt.title(\"Accuracy\")\n",
    "plt.show()"
   ]
  },
  {
   "cell_type": "code",
   "execution_count": null,
   "metadata": {},
   "outputs": [],
   "source": []
  }
 ],
 "metadata": {
  "kernelspec": {
   "display_name": "Python 3",
   "language": "python",
   "name": "python3"
  },
  "language_info": {
   "codemirror_mode": {
    "name": "ipython",
    "version": 3
   },
   "file_extension": ".py",
   "mimetype": "text/x-python",
   "name": "python",
   "nbconvert_exporter": "python",
   "pygments_lexer": "ipython3",
   "version": "3.7.6"
  }
 },
 "nbformat": 4,
 "nbformat_minor": 2
}
